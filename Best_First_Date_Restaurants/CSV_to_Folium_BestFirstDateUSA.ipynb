{
 "cells": [
  {
   "cell_type": "code",
   "execution_count": 1,
   "metadata": {},
   "outputs": [],
   "source": [
    "# %pip install folium\n",
    "import folium\n",
    "import pandas as pd"
   ]
  },
  {
   "cell_type": "code",
   "execution_count": 2,
   "metadata": {},
   "outputs": [
    {
     "name": "stdout",
     "output_type": "stream",
     "text": [
      "Map saved as 'romantic_restaurants.html'\n"
     ]
    }
   ],
   "source": [
    "# Завантаження даних (замініть 'restaurants.csv' своїм файлом із даними)\n",
    "data = pd.read_csv('romantic_restaurants.csv')\n",
    "\n",
    "# Ініціалізація карти США\n",
    "map_usa = folium.Map(location=[37.0902, -95.7129], zoom_start=5, tiles='CartoDB positron')\n",
    "\n",
    "# Функція для стилю маркерів залежно від рейтингу\n",
    "def get_marker_color(stars):\n",
    "    if stars >= 4.5:\n",
    "        return 'green'\n",
    "    elif stars >= 4.0:\n",
    "        return 'blue'\n",
    "    elif stars >= 3.0:\n",
    "        return 'orange'\n",
    "    else:\n",
    "        return 'red'\n",
    "\n",
    "# Додавання маркерів для кожного ресторану\n",
    "for _, row in data.iterrows():\n",
    "    popup_info = (\n",
    "        f\"<b>{row['name']}</b><br>\"\n",
    "        f\"City: {row['city']}, {row['state']}<br>\"\n",
    "        f\"Rating: {row['stars']} ⭐<br>\"\n",
    "        f\"Reviews: {row['review_count']}<br>\"\n",
    "        f\"Romance Score: {row['romance_score']}\"\n",
    "    )\n",
    "    folium.Marker(\n",
    "        location=[row['latitude'], row['longitude']],\n",
    "        popup=folium.Popup(popup_info, max_width=300),\n",
    "        icon=folium.Icon(color=get_marker_color(row['stars']), icon='heart', prefix='fa')\n",
    "    ).add_to(map_usa)\n",
    "\n",
    "# Збереження карти\n",
    "map_usa.save('romantic_restaurants_yelp.html')\n",
    "print(\"Map saved as 'romantic_restaurants.html'\")"
   ]
  },
  {
   "cell_type": "code",
   "execution_count": null,
   "metadata": {},
   "outputs": [],
   "source": []
  }
 ],
 "metadata": {
  "kernelspec": {
   "display_name": "Python 3",
   "language": "python",
   "name": "python3"
  },
  "language_info": {
   "codemirror_mode": {
    "name": "ipython",
    "version": 3
   },
   "file_extension": ".py",
   "mimetype": "text/x-python",
   "name": "python",
   "nbconvert_exporter": "python",
   "pygments_lexer": "ipython3",
   "version": "3.12.4"
  }
 },
 "nbformat": 4,
 "nbformat_minor": 2
}
