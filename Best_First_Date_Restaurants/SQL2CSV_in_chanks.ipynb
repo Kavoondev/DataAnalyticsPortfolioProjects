{
 "cells": [
  {
   "cell_type": "code",
   "execution_count": null,
   "metadata": {},
   "outputs": [],
   "source": [
    "import pandas as pd\n",
    "from sqlalchemy import create_engine\n",
    "\n",
    "# Replace with your database connection details\n",
    "user = 'root'\n",
    "password = 'password'\n",
    "host = 'host'\n",
    "port = '3306'\n",
    "database_name = 'yelp'\n",
    "\n",
    "# Create a database connection\n",
    "engine = create_engine(f'mysql+pymysql://{user}:{password}@{host}:{port}/{database_name}')\n"
   ]
  },
  {
   "cell_type": "code",
   "execution_count": null,
   "metadata": {},
   "outputs": [],
   "source": [
    "# SQL query\n",
    "query = \"\"\"\n",
    "SELECT business_id,\n",
    "       name, city, state, latitude, longitude, stars, review_count,\n",
    "       (romantic_mentions + date_mentions + cozy_mentions + romantic_tips) AS romance_score,\n",
    "       stars * (romantic_mentions + romantic_tips) / (review_count + 1) AS final_score,\n",
    "       schedule\n",
    "FROM final_table\n",
    "WHERE (romantic_mentions + date_mentions + cozy_mentions + romantic_tips) > 0\n",
    "ORDER BY final_score DESC;\n",
    "\"\"\"\n",
    "\n",
    "try:\n",
    "    # Execute the query and create a DataFrame\n",
    "    df = pd.read_sql_query(query, engine)\n",
    "\n",
    "    # Save the DataFrame to a CSV file\n",
    "    output_file = 'romantic_restaurants.csv'\n",
    "    df.to_csv(output_file, index=False)\n",
    "    print(f\"Results saved to {output_file}\")\n",
    "\n",
    "except Exception as e:\n",
    "    print(f\"An error occurred: {e}\")\n"
   ]
  }
 ],
 "metadata": {
  "kernelspec": {
   "display_name": "Python 3",
   "language": "python",
   "name": "python3"
  },
  "language_info": {
   "codemirror_mode": {
    "name": "ipython",
    "version": 3
   },
   "file_extension": ".py",
   "mimetype": "text/x-python",
   "name": "python",
   "nbconvert_exporter": "python",
   "pygments_lexer": "ipython3",
   "version": "3.12.4"
  }
 },
 "nbformat": 4,
 "nbformat_minor": 2
}
