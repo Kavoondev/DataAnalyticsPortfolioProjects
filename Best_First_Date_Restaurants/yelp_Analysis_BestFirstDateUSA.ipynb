{
 "cells": [
  {
   "cell_type": "markdown",
   "metadata": {},
   "source": [
    "#  Rating: Best Restaurant for first dates (based on Yelp Dataset in SQL)"
   ]
  },
  {
   "cell_type": "markdown",
   "metadata": {},
   "source": [
    "## 1. Problem Statement\n",
    "### Goal:\n",
    "Develop a rating of restaurants for first dates, taking into account the following criteria:\n",
    "- Atmosphere (romantic/cozy).\n",
    "- High ratings.\n",
    "- A large number of positive reviews.\n",
    "- Flexible work hours.\n",
    "\n",
    "## 2. Work steps\n",
    "### Step 1: Filtering restaurants\n",
    "#### Goal: Select businesses that are restaurants.\n",
    "- Actions:\n",
    "- Use the yelp_business table.\n",
    "- Select rows where the categories column contains the value Restaurants."
   ]
  },
  {
   "cell_type": "code",
   "execution_count": null,
   "metadata": {},
   "outputs": [],
   "source": [
    "# SELECT business_id, name, city, state, latitude, longitude, stars, review_count, categories\n",
    "# FROM yelp_business\n",
    "# WHERE categories LIKE '%Restaurants%';"
   ]
  },
  {
   "cell_type": "markdown",
   "metadata": {},
   "source": [
    "## Step 3: Filter by opening hours\n",
    "### Goal: Select restaurants that are open in the evening (important for dates).\n",
    "- Actions:\n",
    "- Use the yelp_opening_hours and yelp_closing_hours tables.\n",
    "- Identify restaurants that are open after 6:00 PM."
   ]
  },
  {
   "cell_type": "code",
   "execution_count": null,
   "metadata": {},
   "outputs": [],
   "source": [
    "# SELECT o.business_id\n",
    "# FROM yelp_opening_hours o\n",
    "# JOIN yelp_closing_hours c ON o.business_id = c.business_id\n",
    "# WHERE \n",
    "#     (\n",
    "#     STR_TO_DATE(o.Monday_Open, '%h:%i %p') < '18:00:00' AND STR_TO_DATE(c.Monday_Close, '%h:%i %p') > '22:00:00'\n",
    "#     ) OR (\n",
    "#     STR_TO_DATE(o.Tuesday_Open, '%h:%i %p') < '18:00:00' AND STR_TO_DATE(c.Tuesday_Close, '%h:%i %p') > '22:00:00'\n",
    "#     ) OR (\n",
    "#     STR_TO_DATE(o.Wednesday_Open, '%h:%i %p') < '18:00:00' AND STR_TO_DATE(c.Wednesday_Close, '%h:%i %p') > '22:00:00'\n",
    "#     ) OR (\n",
    "#     STR_TO_DATE(o.Thursday_Open, '%h:%i %p') < '18:00:00' AND STR_TO_DATE(c.Thursday_Close, '%h:%i %p') > '22:00:00'\n",
    "#     ) OR (\n",
    "#     STR_TO_DATE(o.Friday_Open, '%h:%i %p') < '18:00:00' AND STR_TO_DATE(c.Friday_Close, '%h:%i %p') > '22:00:00'\n",
    "#     ) OR (\n",
    "#     STR_TO_DATE(o.Saturday_Open, '%h:%i %p') < '18:00:00' AND STR_TO_DATE(c.Saturday_Close, '%h:%i %p') > '22:00:00'\n",
    "#     ) OR (\n",
    "#     STR_TO_DATE(o.Sunday_Open, '%h:%i %p') < '18:00:00' AND STR_TO_DATE(c.Sunday_Close, '%h:%i %p') > '22:00:00'\n",
    "#     );"
   ]
  },
  {
   "cell_type": "markdown",
   "metadata": {},
   "source": [
    "### Step 4: Analyze review text\n",
    "#### Goal: Find mentions of dating and romance in reviews.\n",
    "Steps:\n",
    "- Use the yelp_reviews table.\n",
    "- Analyze text data, searching for keywords: romantic, date, cozy, intimate.\n",
    "- Count the number of such mentions for each business.\n",
    "\n",
    "Use ETL_SQL2CSV_RomanticReview.ipynb"
   ]
  },
  {
   "cell_type": "markdown",
   "metadata": {},
   "source": [
    "## Step 5: Analyze Tips\n",
    "### Goal: Consider short tips that might mention a date.\n",
    "Actions:\n",
    "- Analyze the yelp_tips table, searching for the same keywords."
   ]
  },
  {
   "cell_type": "code",
   "execution_count": null,
   "metadata": {},
   "outputs": [],
   "source": [
    "# CREATE TABLE aggregated_tips AS\n",
    "# SELECT business_id, COUNT(*) AS romantic_tips\n",
    "# FROM yelp_tips_combined\n",
    "# WHERE text LIKE '%romantic%'\n",
    "# GROUP BY business_id;"
   ]
  },
  {
   "cell_type": "markdown",
   "metadata": {},
   "source": [
    "## Step 6: Combine results\n",
    "### Goal: Collect all the received metrics into one dataset.\n",
    "Actions:\n",
    "- Combine the results from the previous steps (JOIN)."
   ]
  },
  {
   "cell_type": "code",
   "execution_count": null,
   "metadata": {},
   "outputs": [],
   "source": [
    "# CREATE TABLE final_table AS\n",
    "# SELECT b.business_id, MAX(b.name) AS name, MAX(b.city) AS city, MAX(b.state) AS state, MAX(b.latitude) AS latitude, MAX(b.longitude) AS longitude, MAX(b.stars) AS stars, MAX(b.review_count) AS review_count, MAX(b.categories) AS categories,\n",
    "# \tMAX(r.romantic_mentions) AS romantic_mentions, MAX(r.date_mentions) AS date_mentions, MAX(r.cozy_mentions) AS cozy_mentions, MAX(t.romantic_tips) AS romantic_tips,\n",
    "#     MAX(oc.schedule) AS schedule\n",
    "# FROM filtered_business b\n",
    "# LEFT JOIN open_close oc ON b.business_id = oc.business_id\n",
    "# LEFT JOIN yelp_review_mentions r ON b.business_id = r.business_id\n",
    "# LEFT JOIN aggregated_tips t ON b.business_id = t.business_id\n",
    "# GROUP BY b.business_id;"
   ]
  },
  {
   "cell_type": "markdown",
   "metadata": {},
   "source": [
    "## Step 7: Calculating the final rating\n",
    "### Goal: Create an integral rating of restaurants.\n",
    "Calculate the rating, taking into account:\n",
    "- Number of romantic mentions.\n",
    "- Restaurant stars (stars).\n",
    "- Number of reviews."
   ]
  },
  {
   "cell_type": "code",
   "execution_count": null,
   "metadata": {},
   "outputs": [],
   "source": [
    "# SELECT business_id,\n",
    "# \tname, city, state, stars, review_count, \n",
    "#        (romantic_mentions + date_mentions + cozy_mentions + romantic_tips) AS romance_score,\n",
    "#        stars * (romantic_mentions + romantic_tips) / (review_count + 1) AS final_score,\n",
    "#        schedule\n",
    "# FROM final_table\n",
    "# ORDER BY final_score DESC;"
   ]
  },
  {
   "cell_type": "markdown",
   "metadata": {},
   "source": [
    "### Зберігаємо в CSV - SQL2CSV_in_chanks.ipynb\n"
   ]
  },
  {
   "cell_type": "markdown",
   "metadata": {},
   "source": [
    "### 3. Final result - Table with top restaurants for dates, where there are columns:\n",
    "\n",
    "- Restaurant name.\n",
    "- City.\n",
    "- Overall rating.\n",
    "- Romantic mentions.\n",
    "- Working hours.\n",
    "- Visualization:"
   ]
  },
  {
   "cell_type": "markdown",
   "metadata": {},
   "source": [
    "CSV_to_Folium_BestFirstDateUSA.ipynb\n",
    "\n",
    "Result is romantic_restaurants_yelp.html"
   ]
  }
 ],
 "metadata": {
  "kernelspec": {
   "display_name": "Python 3",
   "language": "python",
   "name": "python3"
  },
  "language_info": {
   "codemirror_mode": {
    "name": "ipython",
    "version": 3
   },
   "file_extension": ".py",
   "mimetype": "text/x-python",
   "name": "python",
   "nbconvert_exporter": "python",
   "pygments_lexer": "ipython3",
   "version": "3.12.4"
  }
 },
 "nbformat": 4,
 "nbformat_minor": 2
}
